{
 "cells": [
  {
   "cell_type": "markdown",
   "metadata": {},
   "source": [
    "# Duplicate Entries"
   ]
  },
  {
   "cell_type": "markdown",
   "metadata": {},
   "source": [
    "Changes the fourth data set, monthly production to eliminate the duplicates and saves it to the clean file folder. \n",
    "To find the results, look at the Clean_folder for the revised dataset."
   ]
  },
  {
   "cell_type": "code",
   "execution_count": 1,
   "metadata": {},
   "outputs": [],
   "source": [
    "import pandas as pd\n",
    "import matplotlib.pyplot as plt\n",
    "\n",
    "import numpy as np\n",
    "import seaborn as sns\n",
    "import os\n",
    "import missingno as msno"
   ]
  },
  {
   "cell_type": "markdown",
   "metadata": {},
   "source": [
    "Finding the duplicate entries in the 4 datasets. The only one that had reoccuring entries was monthly_production. "
   ]
  },
  {
   "cell_type": "code",
   "execution_count": 2,
   "metadata": {},
   "outputs": [],
   "source": [
    "path = \"UT_BestFrac_Dataset/\"\n",
    "\n",
    "file_1 = \"cross_bu_dnc_stim_stage_detail.xlsx\"\n",
    "file_2 = \"cross_bu_dnc_stim_stage_detail.xlsx\"\n",
    "file_3 = \"gcbu_dnc_stim_stage.xlsx\"\n",
    "file_4 = \"monthly_production.xlsx\""
   ]
  },
  {
   "cell_type": "code",
   "execution_count": 3,
   "metadata": {},
   "outputs": [],
   "source": [
    "path2 = \"Clean_Files/\"\n",
    "\n",
    "save_name = \"Clean_Files\"\n",
    "file_clean = \"clean_monthly_production.xlsx\"\n",
    "os.makedirs(save_name, exist_ok = True)\n",
    "save_path = save_name + \"/\""
   ]
  },
  {
   "cell_type": "code",
   "execution_count": 4,
   "metadata": {},
   "outputs": [],
   "source": [
    "df_1 = pd.read_excel(path + file_1)"
   ]
  },
  {
   "cell_type": "code",
   "execution_count": 5,
   "metadata": {},
   "outputs": [
    {
     "name": "stdout",
     "output_type": "stream",
     "text": [
      "Empty DataFrame\n",
      "Columns: [#WELL_NAME, CURRENT_STATUS, UWI, UWI_SIDETRACK, JOB_CATEGORY, JOB_START_DATE, JOB_END_DATE, FINAL_JOB_STATUS, LIKE_KIND_GROUP, PRIMARY_JOB_TYPE, JOB_PHASE_ACTUAL_START_DATE, JOB_PHASE_ACTUAL_END_DATE, JOB_PHASE, JOB_OP_CODE, JOB_OP_SUBCODE, RIG_NAME, RIG_ACCEPT_DATE, RIG_RELEASE_DATE, RIG_TYPE, RIG_CONTRACTOR, DAILY_OPS_START_DATE_YEAR, DAILY_OPS_START_DATE, DAILY_OPS_END_DATE, STIM_INT_START_DATE, STIM_INT_END_DATE, STIM_INT_TREAT_TYPE, STIM_COMPANY, STIM_DIVERSION_COMPANY, STIM_DIVERSION_METHOD, STIM_INT_DELIVERY_MODE, STIM_INT_EST_SAND_TOP_DEPTH, STIM_INT_DIAGNOSTIC_METHOD, STIM_INT_FRAC_GRADIENT, STIM_INT_BTM_HOLE_PRESS_METHOD, BREAKDOWN_PRESS, STIM_INT_CLOSURE_PRESS, STIM_INT_CLOSURE_PRESS_METHOD, STIM_INT_HYDROSTATIC_PRESS, STIM_INT_TREAT_AVG_PRESS, STIM_INT_TREAT_MAX_PRESS, STIM_INT_TREAT_MIN_PRESS, STIM_INT_PROPPANT_DESIGNED, STIM_INT_PROPPANT_TOTAL, STIM_INT_PROPPANT_IN_WELLBORE, STIM_INT_PROPPANT_RETURN_TO_SURF, STIM_INT_AVG_HYDRAULIC_POWER, STIM_INT_MAX_PUMP_POWER, STIM_INT_MAX_PUMP_RATING, STIM_INT_TREAT_AVG_RATE, STIM_INT_TREAT_MAX_RATE, STIM_INT_TREAT_MIN_RATE, STIM_INT_POST_INST_SHUT_IN_PRESS, STIM_INT_INITIAL_SHUT_IN_PRESS, STIM_INT_PRE_INST_SHUT_IN_PRESS, STIM_INT_SHUT_IN_TIME_FINAL, STIM_INT_STIM_RESULT, STIM_INT_RESULT_DETAIL, STIM_INT_RESULT_NOTE, STIM_INT_STAGE_NUMBER, STIM_INT_STAGE_TYPE, STIM_START_DATE, STIM_END_DATE, STIM_INT_TOP_DEPTH, STIM_INT_BTM_DEPTH, ELEMENT_TOP_DEPTH, ELEMENT_BOTTOM_DEPTH, STIM_INT_INITIAL_PUMPING_PRESS, STIM_INT_AVG_BTM_HOLE_PRESS, STIM_INT_FINAL_PUMPING_PRESS, STIM_INT_BREAKDOWN_PRESS, STIM_INT_CASING_PRESS_START, STIM_INT_CASING_PRESS_END, STIM_INT_AVG_CASING_PRESS, STIM_INT_TUBING_PRESSURE_START, STIM_INT_TUBING_PRESSURE_END, STIM_INT_AVG_TUBING_PRESSURE, STIM_INT_AVG_RATE, STIM_INT_AVG_BOTTOM_HOLE_RATE, STIM_INT_INITIAL_BTM_HOLE_RATE, STIM_INT_FINAL_BTM_HOLE_RATE, STIM_INT_INITIAL_FLUID_RATE, STIM_INT_FINAL_FLUID_RATE, STIM_INT_CLEAN_VOLUME_PUMPED, STIM_INT_SLURRY_VOLUME_PUMPED, STIM_INT_VOLUME_RECOVERED, STIMTREAT_ID, STIMTREATSTG_ID, STIM_INT_BOTTOM_DEPTH_TVD, STIM_INT_TOP_DEPTH_TVD, L48DW_AREA, L48DW_DISTRICT, L48DW_REGION, PLANNED_FORMATION, TOTAL_PUMPS_ON_LOCATION, PUMPS_ONLINE_AT_STG_START, PUMPS_ONLINE_AT_STG_END, STIM_COMMENT, STIM_INT_COMMENT, JOB_STATUS, LIKE_KIND, ...]\n",
      "Index: []\n",
      "\n",
      "[0 rows x 182 columns]\n"
     ]
    }
   ],
   "source": [
    "duplicateRowsDF = df_1[df_1.duplicated(keep=False)]\n",
    "print(duplicateRowsDF)"
   ]
  },
  {
   "cell_type": "code",
   "execution_count": null,
   "metadata": {},
   "outputs": [],
   "source": []
  },
  {
   "cell_type": "code",
   "execution_count": 6,
   "metadata": {},
   "outputs": [],
   "source": [
    "df_2 = pd.read_excel(path + file_2)\n"
   ]
  },
  {
   "cell_type": "code",
   "execution_count": 7,
   "metadata": {},
   "outputs": [
    {
     "name": "stdout",
     "output_type": "stream",
     "text": [
      "Empty DataFrame\n",
      "Columns: [#WELL_NAME, CURRENT_STATUS, UWI, UWI_SIDETRACK, JOB_CATEGORY, JOB_START_DATE, JOB_END_DATE, FINAL_JOB_STATUS, LIKE_KIND_GROUP, PRIMARY_JOB_TYPE, JOB_PHASE_ACTUAL_START_DATE, JOB_PHASE_ACTUAL_END_DATE, JOB_PHASE, JOB_OP_CODE, JOB_OP_SUBCODE, RIG_NAME, RIG_ACCEPT_DATE, RIG_RELEASE_DATE, RIG_TYPE, RIG_CONTRACTOR, DAILY_OPS_START_DATE_YEAR, DAILY_OPS_START_DATE, DAILY_OPS_END_DATE, STIM_INT_START_DATE, STIM_INT_END_DATE, STIM_INT_TREAT_TYPE, STIM_COMPANY, STIM_DIVERSION_COMPANY, STIM_DIVERSION_METHOD, STIM_INT_DELIVERY_MODE, STIM_INT_EST_SAND_TOP_DEPTH, STIM_INT_DIAGNOSTIC_METHOD, STIM_INT_FRAC_GRADIENT, STIM_INT_BTM_HOLE_PRESS_METHOD, BREAKDOWN_PRESS, STIM_INT_CLOSURE_PRESS, STIM_INT_CLOSURE_PRESS_METHOD, STIM_INT_HYDROSTATIC_PRESS, STIM_INT_TREAT_AVG_PRESS, STIM_INT_TREAT_MAX_PRESS, STIM_INT_TREAT_MIN_PRESS, STIM_INT_PROPPANT_DESIGNED, STIM_INT_PROPPANT_TOTAL, STIM_INT_PROPPANT_IN_WELLBORE, STIM_INT_PROPPANT_RETURN_TO_SURF, STIM_INT_AVG_HYDRAULIC_POWER, STIM_INT_MAX_PUMP_POWER, STIM_INT_MAX_PUMP_RATING, STIM_INT_TREAT_AVG_RATE, STIM_INT_TREAT_MAX_RATE, STIM_INT_TREAT_MIN_RATE, STIM_INT_POST_INST_SHUT_IN_PRESS, STIM_INT_INITIAL_SHUT_IN_PRESS, STIM_INT_PRE_INST_SHUT_IN_PRESS, STIM_INT_SHUT_IN_TIME_FINAL, STIM_INT_STIM_RESULT, STIM_INT_RESULT_DETAIL, STIM_INT_RESULT_NOTE, STIM_INT_STAGE_NUMBER, STIM_INT_STAGE_TYPE, STIM_START_DATE, STIM_END_DATE, STIM_INT_TOP_DEPTH, STIM_INT_BTM_DEPTH, ELEMENT_TOP_DEPTH, ELEMENT_BOTTOM_DEPTH, STIM_INT_INITIAL_PUMPING_PRESS, STIM_INT_AVG_BTM_HOLE_PRESS, STIM_INT_FINAL_PUMPING_PRESS, STIM_INT_BREAKDOWN_PRESS, STIM_INT_CASING_PRESS_START, STIM_INT_CASING_PRESS_END, STIM_INT_AVG_CASING_PRESS, STIM_INT_TUBING_PRESSURE_START, STIM_INT_TUBING_PRESSURE_END, STIM_INT_AVG_TUBING_PRESSURE, STIM_INT_AVG_RATE, STIM_INT_AVG_BOTTOM_HOLE_RATE, STIM_INT_INITIAL_BTM_HOLE_RATE, STIM_INT_FINAL_BTM_HOLE_RATE, STIM_INT_INITIAL_FLUID_RATE, STIM_INT_FINAL_FLUID_RATE, STIM_INT_CLEAN_VOLUME_PUMPED, STIM_INT_SLURRY_VOLUME_PUMPED, STIM_INT_VOLUME_RECOVERED, STIMTREAT_ID, STIMTREATSTG_ID, STIM_INT_BOTTOM_DEPTH_TVD, STIM_INT_TOP_DEPTH_TVD, L48DW_AREA, L48DW_DISTRICT, L48DW_REGION, PLANNED_FORMATION, TOTAL_PUMPS_ON_LOCATION, PUMPS_ONLINE_AT_STG_START, PUMPS_ONLINE_AT_STG_END, STIM_COMMENT, STIM_INT_COMMENT, JOB_STATUS, LIKE_KIND, ...]\n",
      "Index: []\n",
      "\n",
      "[0 rows x 182 columns]\n"
     ]
    }
   ],
   "source": [
    "duplicateRowsDF = df_2[df_2.duplicated(keep=False)]\n",
    "print(duplicateRowsDF)"
   ]
  },
  {
   "cell_type": "code",
   "execution_count": null,
   "metadata": {},
   "outputs": [],
   "source": []
  },
  {
   "cell_type": "code",
   "execution_count": 8,
   "metadata": {},
   "outputs": [],
   "source": [
    "df_3 = pd.read_excel(path + file_3)\n"
   ]
  },
  {
   "cell_type": "code",
   "execution_count": 9,
   "metadata": {},
   "outputs": [
    {
     "name": "stdout",
     "output_type": "stream",
     "text": [
      "Empty DataFrame\n",
      "Columns: [#WELL_NAME, CURRENT_STATUS, UWI, UWI_SIDETRACK, JOB_CATEGORY, JOB_START_DATE, JOB_END_DATE, JOB_STATUS, LIKE_KIND, PROJECT_TYPE, PROJECT_SUBTYPE, PHASE_START_DATE, PHASE_END_DATE, PHASE, JOB_OP_CODE, JOB_OP_SUBCODE, RIG_ID, RIG_ACCEPT_DATE, RIG_RELEASE_DATE, RIG_TYPE, CONTRACTOR, REPORT_START_DATE_YEAR, REPORT_START_DATE, REPORT_END_DATE, STIMULATION_TREAT_DATE, STIMULATION_TREAT_TYPE, STIM_TREAT_COMPANY, STIM_TREAT_SUPERVISOR, DIVERSION_COMPANY, DIVERSION_METHOD, DELIVERY_MODE, EST_SAND_TOP_DEPTH, FRAC_DIAGNOSTIC_METHOD, FRAC_GRADIENT, BOTTOM_HOLE_PRESSURE_METHOD, BREAKDOWN_PRESSURE, CLOSURE_PRESSURE, CLOSURE_PRESSURE_METHOD, HYDROSTATIC_PRESSURE, TREAT_AVG_PRESSURE, TREAT_MAX_PRESSURE, TREAT_MIN_PRESSURE, PROPPANT_DESIGNED, PROPPANT_IN_FORMATION, PROPPANT_IN_WELLBORE, PROPPANT_RETURN_TO_SURFACE, AVG_HYDRAULIC_POWER, MAX_PUMP_POWER, MAX_PUMP_RATING, TREAT_AVG_RATE, TREAT_MAX_RATE, TREAT_MIN_RATE, POST_INSTANT_SHUT_IN_PRESSURE, INITIAL_SHUT_IN_PRESSURE, PRE_INSTANT_SHUT_IN_PRESSURE, SHUT_IN_TIME_FINAL, STIMULATION_RESULT, STIMULATION_RESULT_DETAIL, STIMULATION_RESULT_NOTE, STG_NUMBER, STG_TYPE, STG_START_DATE, STG_END_DATE, STG_TOP_DEPTH, STG_BOTTOM_DEPTH, STG_ELEMENT_TOP_DEPTH, STG_ELEMENT_BOTTOM_DEPTH, STG_INITIAL_PUMPING_PRESSURE, STG_AVG_BOTTOM_HOLE_PRESSURE, STG_FINAL_PUMPING_PRESSURE, STG_BREAKDOWN_PRESSURE, STG_CASING_PRESSURE_START, STG_CASING_PRESSURE_END, STG_AVG_CASING_PRESSURE, STG_TUBING_PRESSURE_START, STG_TUBING_PRESSURE_END, STG_AVG_TUBING_PRESSURE, STG_INITIAL_PUMPING_RATE, STG_AVG_BOTTOM_HOLE_RATE, STG_INITIAL_BOTTOM_HOLE_RATE, STG_FINAL_BOTTOM_HOLE_RATE, STG_INITIAL_FLUID_RATE, STG_FINAL_FLUID_RATE, STG_CLEAN_VOLUME_PUMPED, STG_SLURRY_VOLUME_PUMPED, STG_VOLUME_RECOVERED, STIMTREAT_ID, STIMTREATSTG_ID, FLUID_NAME, PUMPSONLINENO, USERNUM1, USERNUM3, DURPUMP, TOP_DEPTH_TVD, BOTTOM_DEPTH_TVD, PROPOSED, STIM_TREAT_REMARK, STG_REMARK]\n",
      "Index: []\n",
      "\n",
      "[0 rows x 98 columns]\n"
     ]
    }
   ],
   "source": [
    "duplicateRowsDF = df_3[df_3.duplicated(keep=False)]\n",
    "print(duplicateRowsDF)\n"
   ]
  },
  {
   "cell_type": "markdown",
   "metadata": {},
   "source": [
    "Only dataset with repeating entries. 5699 are duplicates"
   ]
  },
  {
   "cell_type": "code",
   "execution_count": 10,
   "metadata": {},
   "outputs": [],
   "source": [
    "df_4= pd.read_excel(path + file_4)"
   ]
  },
  {
   "cell_type": "code",
   "execution_count": 11,
   "metadata": {},
   "outputs": [
    {
     "name": "stdout",
     "output_type": "stream",
     "text": [
      "              UWI  CYCLE_YEAR  CYCLE_MONTH OIL_GAS_CODE  LEASE_OIL_PROD_VOL  \\\n",
      "167    2019000013        2018            1            O              102896   \n",
      "168    2019000013        2018            1            O              102896   \n",
      "169    2019000013        2018            2            O               90519   \n",
      "170    2019000013        2018            2            O               90519   \n",
      "171    2019000013        2018            3            O              105638   \n",
      "172    2019000013        2018            3            O              105638   \n",
      "173    2019000013        2018            4            O               73966   \n",
      "174    2019000013        2018            4            O               73966   \n",
      "175    2019000013        2018            5            O               74645   \n",
      "176    2019000013        2018            5            O               74645   \n",
      "177    2019000013        2018            6            O               65863   \n",
      "178    2019000013        2018            6            O               65863   \n",
      "179    2019000013        2018            7            O               61885   \n",
      "180    2019000013        2018            7            O               61885   \n",
      "181    2019000013        2018            8            O               47511   \n",
      "182    2019000013        2018            8            O               47511   \n",
      "183    2019000013        2018            9            O               46799   \n",
      "184    2019000013        2018            9            O               46799   \n",
      "185    2019000013        2018           10            O               37976   \n",
      "186    2019000013        2018           10            O               37976   \n",
      "187    2019000013        2018           11            O               50512   \n",
      "188    2019000013        2018           11            O               50512   \n",
      "189    2019000013        2018           12            O               52149   \n",
      "190    2019000013        2018           12            O               52149   \n",
      "191    2019000013        2019            1            O               46830   \n",
      "192    2019000013        2019            1            O               46830   \n",
      "193    2019000013        2019            2            O               34801   \n",
      "194    2019000013        2019            2            O               34801   \n",
      "195    2019000013        2019            3            O               33760   \n",
      "196    2019000013        2019            3            O               33760   \n",
      "...           ...         ...          ...          ...                 ...   \n",
      "21851  2019001394        2019           12            G                   0   \n",
      "21854  2019001394        2019           12            G                   0   \n",
      "21859  2019001394        2019           12            G                   0   \n",
      "21860  2019001394        2020            1            G                   0   \n",
      "21861  2019001394        2020            1            G                   0   \n",
      "21862  2019001394        2020            1            G                   0   \n",
      "21863  2019001394        2020            1            G                   0   \n",
      "21864  2019001394        2020            1            G                   0   \n",
      "21865  2019001394        2020            1            G                   0   \n",
      "21866  2019001394        2020            1            G                   0   \n",
      "21867  2019001394        2020            1            G                   0   \n",
      "21868  2019001394        2020            1            G                   0   \n",
      "21869  2019001394        2020            2            G                   0   \n",
      "21870  2019001394        2020            2            G                   0   \n",
      "21871  2019001394        2020            2            G                   0   \n",
      "21872  2019001394        2020            2            G                   0   \n",
      "21873  2019001394        2020            2            G                   0   \n",
      "21874  2019001394        2020            2            G                   0   \n",
      "21875  2019001394        2020            2            G                   0   \n",
      "21876  2019001394        2020            2            G                   0   \n",
      "21877  2019001394        2020            2            G                   0   \n",
      "21878  2019001394        2020            3            G                   0   \n",
      "21879  2019001394        2020            3            G                   0   \n",
      "21880  2019001394        2020            3            G                   0   \n",
      "21881  2019001394        2020            3            G                   0   \n",
      "21882  2019001394        2020            3            G                   0   \n",
      "21883  2019001394        2020            3            G                   0   \n",
      "21884  2019001394        2020            3            G                   0   \n",
      "21885  2019001394        2020            3            G                   0   \n",
      "21886  2019001394        2020            3            G                   0   \n",
      "\n",
      "       LEASE_GAS_PROD_VOL  LEASE_GAS_LIFT_INJ_VOL  LEASE_COND_PROD_VOL  \n",
      "167                     0                       0                    0  \n",
      "168                     0                       0                    0  \n",
      "169                     0                       0                    0  \n",
      "170                     0                       0                    0  \n",
      "171                     0                       0                    0  \n",
      "172                     0                       0                    0  \n",
      "173                     0                       0                    0  \n",
      "174                     0                       0                    0  \n",
      "175                     0                       0                    0  \n",
      "176                     0                       0                    0  \n",
      "177                     0                       0                    0  \n",
      "178                     0                       0                    0  \n",
      "179                     0                       0                    0  \n",
      "180                     0                       0                    0  \n",
      "181                     0                       0                    0  \n",
      "182                     0                       0                    0  \n",
      "183                     0                       0                    0  \n",
      "184                     0                       0                    0  \n",
      "185                     0                       0                    0  \n",
      "186                     0                       0                    0  \n",
      "187                     0                       0                    0  \n",
      "188                     0                       0                    0  \n",
      "189                     0                       0                    0  \n",
      "190                     0                       0                    0  \n",
      "191                     0                       0                    0  \n",
      "192                     0                       0                    0  \n",
      "193                     0                       0                    0  \n",
      "194                     0                       0                    0  \n",
      "195                     0                       0                    0  \n",
      "196                     0                       0                    0  \n",
      "...                   ...                     ...                  ...  \n",
      "21851                   0                       0                    0  \n",
      "21854                   0                       0                    0  \n",
      "21859                   0                       0                    0  \n",
      "21860                   0                       0                    0  \n",
      "21861                   0                       0                    0  \n",
      "21862                   0                       0                    0  \n",
      "21863                   0                       0                    0  \n",
      "21864                   0                       0                    0  \n",
      "21865                   0                       0                    0  \n",
      "21866                   0                       0                    0  \n",
      "21867                   0                       0                    0  \n",
      "21868                   0                       0                    0  \n",
      "21869                   0                       0                    0  \n",
      "21870                   0                       0                    0  \n",
      "21871                   0                       0                    0  \n",
      "21872                   0                       0                    0  \n",
      "21873                   0                       0                    0  \n",
      "21874                   0                       0                    0  \n",
      "21875                   0                       0                    0  \n",
      "21876                   0                       0                    0  \n",
      "21877                   0                       0                    0  \n",
      "21878                   0                       0                    0  \n",
      "21879                   0                       0                    0  \n",
      "21880                   0                       0                    0  \n",
      "21881                   0                       0                    0  \n",
      "21882                   0                       0                    0  \n",
      "21883                   0                       0                    0  \n",
      "21884                   0                       0                    0  \n",
      "21885                   0                       0                    0  \n",
      "21886                   0                       0                    0  \n",
      "\n",
      "[5699 rows x 8 columns]\n"
     ]
    }
   ],
   "source": [
    "duplicateRowsDF = df_4[df_4.duplicated(keep=False)]\n",
    "print(duplicateRowsDF)\n"
   ]
  },
  {
   "cell_type": "code",
   "execution_count": 15,
   "metadata": {},
   "outputs": [
    {
     "data": {
      "image/png": "[encoded data removed]",
      "text/plain": [
       "<Figure size 432x288 with 1 Axes>"
      ]
     },
     "metadata": {
      "needs_background": "light"
     },
     "output_type": "display_data"
    }
   ],
   "source": [
    "\n",
    "y = np.random.rand(30,4)\n",
    "y[:,0]= np.arange(30)\n",
    "df_4 = pd.DataFrame(y, columns=[\"UWI\", \"LEASE_OIL_PROD_VOL\", \"LEASE_GAS_PROD_VOL\", \"LEASE_COND_PROD_VOL\"])\n",
    "\n",
    "ax = df_4.plot(x=\"UWI\", y=\"LEASE_OIL_PROD_VOL\", kind=\"bar\")\n",
    "df_4.plot(x=\"UWI\", y=\"LEASE_GAS_PROD_VOL\", kind=\"bar\", ax=ax, color=\"C2\")\n",
    "df_4.plot(x=\"UWI\", y=\"LEASE_COND_PROD_VOL\", kind=\"bar\", ax=ax, color=\"C3\")\n",
    "\n",
    "plt.show()"
   ]
  },
  {
   "cell_type": "code",
   "execution_count": 16,
   "metadata": {},
   "outputs": [
    {
     "data": {
      "image/png": "[encoded data removed]",
      "text/plain": [
       "<Figure size 432x288 with 1 Axes>"
      ]
     },
     "metadata": {
      "needs_background": "light"
     },
     "output_type": "display_data"
    }
   ],
   "source": [
    "df_4=df_4.drop_duplicates()\n",
    "y = np.random.rand(30,4)\n",
    "y[:,0]= np.arange(30)\n",
    "df_4 = pd.DataFrame(y, columns=[\"UWI\", \"LEASE_OIL_PROD_VOL\", \"LEASE_GAS_PROD_VOL\", \"LEASE_COND_PROD_VOL\"])\n",
    "\n",
    "ax = df_4.plot(x=\"UWI\", y=\"LEASE_OIL_PROD_VOL\", kind=\"bar\")\n",
    "df_4.plot(x=\"UWI\", y=\"LEASE_GAS_PROD_VOL\", kind=\"bar\", ax=ax, color=\"C2\")\n",
    "df_4.plot(x=\"UWI\", y=\"LEASE_COND_PROD_VOL\", kind=\"bar\", ax=ax, color=\"C3\")\n",
    "\n",
    "plt.show()"
   ]
  },
  {
   "cell_type": "code",
   "execution_count": 17,
   "metadata": {},
   "outputs": [],
   "source": [
    "original_path = \"UT_BestFrac_Dataset/\"\n",
    "\n",
    "files = [\n",
    "    \"cross_bu_dnc_stim_stage_detail.xlsx\",\n",
    "    \"gcbu_dnc_recompletions.xlsx\",\n",
    "    \"gcbu_dnc_stim_stage.xlsx\",\n",
    "    \"monthly_production.xlsx\"\n",
    "]\n",
    "df_4.to_excel(save_path + \"clean_\" + files[3],index=False)"
   ]
  },
  {
   "cell_type": "code",
   "execution_count": null,
   "metadata": {},
   "outputs": [],
   "source": []
  },
  {
   "cell_type": "code",
   "execution_count": null,
   "metadata": {},
   "outputs": [],
   "source": []
  }
 ],
 "metadata": {
  "kernelspec": {
   "display_name": "Python 3",
   "language": "python",
   "name": "python3"
  },
  "language_info": {
   "codemirror_mode": {
    "name": "ipython",
    "version": 3
   },
   "file_extension": ".py",
   "mimetype": "text/x-python",
   "name": "python",
   "nbconvert_exporter": "python",
   "pygments_lexer": "ipython3",
   "version": "3.7.3"
  }
 },
 "nbformat": 4,
 "nbformat_minor": 2
}
